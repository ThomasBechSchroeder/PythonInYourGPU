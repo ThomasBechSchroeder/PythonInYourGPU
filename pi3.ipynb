{
 "cells": [
  {
   "cell_type": "markdown",
   "id": "dce44201-627c-44f5-9ffb-ce0d216fff18",
   "metadata": {},
   "source": [
    "## Python in your GPU 1 : Compute PI"
   ]
  },
  {
   "cell_type": "code",
   "execution_count": 1,
   "id": "5991565e-3422-4d1e-afde-b604aca2d1f5",
   "metadata": {},
   "outputs": [],
   "source": [
    "import numpy as np\n",
    "import numba\n",
    "from numba import cuda"
   ]
  },
  {
   "cell_type": "markdown",
   "id": "e66e72c2-fe61-4f7d-a792-3d75623fdac5",
   "metadata": {},
   "source": [
    "## Simple python \n",
    "[ https://en.wikipedia.org/wiki/Monte_Carlo_integration ]"
   ]
  },
  {
   "cell_type": "code",
   "execution_count": 2,
   "id": "9a599b49-649b-42de-a5b1-d0b263493f69",
   "metadata": {
    "tags": []
   },
   "outputs": [],
   "source": [
    "def calculate_pi(trials):\n",
    "    count = 0\n",
    "    for i in range(trials):\n",
    "        x = np.random.uniform(0, 1)\n",
    "        y = np.random.uniform(0, 1)\n",
    "        if x**2 + y**2 <= 1:\n",
    "            count += 1\n",
    "    return  count / trials * 4"
   ]
  },
  {
   "cell_type": "code",
   "execution_count": 3,
   "id": "3aee5bf1-2623-446c-918b-d977dd9ad742",
   "metadata": {
    "tags": []
   },
   "outputs": [
    {
     "name": "stdout",
     "output_type": "stream",
     "text": [
      "CPU times: user 2.48 s, sys: 99 µs, total: 2.48 s\n",
      "Wall time: 2.48 s\n"
     ]
    },
    {
     "data": {
      "text/plain": [
       "3.140332"
      ]
     },
     "execution_count": 3,
     "metadata": {},
     "output_type": "execute_result"
    }
   ],
   "source": [
    "%time calculate_pi(1_000_000)"
   ]
  },
  {
   "cell_type": "markdown",
   "id": "53cda359-4ca4-43ed-af96-d1b3cd09450d",
   "metadata": {},
   "source": [
    "## Numpy"
   ]
  },
  {
   "cell_type": "code",
   "execution_count": 4,
   "id": "070b5a38-cd20-47d0-af5a-744773f864c8",
   "metadata": {},
   "outputs": [],
   "source": [
    "def calculate_pi_numpy(trials):\n",
    "    x = np.random.uniform(0, 1, trials)    \n",
    "    y = np.random.uniform(0, 1, trials)\n",
    "    return np.mean(x**2 + y**2 <= 1) * 4"
   ]
  },
  {
   "cell_type": "code",
   "execution_count": 5,
   "id": "f2b00e48-bb84-41a9-a6a3-e08ff2e8f995",
   "metadata": {},
   "outputs": [
    {
     "name": "stdout",
     "output_type": "stream",
     "text": [
      "CPU times: user 1.53 s, sys: 335 ms, total: 1.87 s\n",
      "Wall time: 1.87 s\n"
     ]
    },
    {
     "data": {
      "text/plain": [
       "3.14162884"
      ]
     },
     "execution_count": 5,
     "metadata": {},
     "output_type": "execute_result"
    }
   ],
   "source": [
    "%time calculate_pi_numpy(100_000_000)"
   ]
  },
  {
   "cell_type": "code",
   "execution_count": 6,
   "id": "c66a8c91-17b4-480b-9931-286e5e249be6",
   "metadata": {},
   "outputs": [],
   "source": [
    "def calculate_pi_numpy2(trials):\n",
    "    return np.mean( np.random.uniform(0, 1, trials)**2 + np.random.uniform(0, 1, trials)**2 <= 1 ) * 4"
   ]
  },
  {
   "cell_type": "code",
   "execution_count": 7,
   "id": "cdf87ee3-8048-47e4-9f6e-6b95f25d3463",
   "metadata": {},
   "outputs": [
    {
     "name": "stdout",
     "output_type": "stream",
     "text": [
      "CPU times: user 1.51 s, sys: 192 ms, total: 1.7 s\n",
      "Wall time: 1.7 s\n"
     ]
    },
    {
     "data": {
      "text/plain": [
       "3.14116828"
      ]
     },
     "execution_count": 7,
     "metadata": {},
     "output_type": "execute_result"
    }
   ],
   "source": [
    "%time calculate_pi_numpy2(100_000_000)"
   ]
  },
  {
   "cell_type": "markdown",
   "id": "2bce6aa3-1556-487f-8c3d-f3d61c6238ad",
   "metadata": {},
   "source": [
    "## Numba JIT\n",
    "[ https://numba.pydata.org/ ]"
   ]
  },
  {
   "cell_type": "code",
   "execution_count": 8,
   "id": "e047dc60-ee89-467e-beb3-ffd463805efd",
   "metadata": {},
   "outputs": [],
   "source": [
    "@numba.njit()\n",
    "def calculate_pi_numba(trials):\n",
    "    count = 0\n",
    "    for i in range(trials):\n",
    "        x = np.random.uniform(0, 1)\n",
    "        y = np.random.uniform(0, 1)\n",
    "        if x**2 + y**2 <= 1:\n",
    "            count += 1\n",
    "    return  count / trials * 4"
   ]
  },
  {
   "cell_type": "code",
   "execution_count": 9,
   "id": "b3ca2f6f-9a40-4e88-9e89-d645e6a91240",
   "metadata": {},
   "outputs": [
    {
     "name": "stdout",
     "output_type": "stream",
     "text": [
      "CPU times: user 905 ms, sys: 27 ms, total: 932 ms\n",
      "Wall time: 952 ms\n"
     ]
    },
    {
     "data": {
      "text/plain": [
       "3.1418004"
      ]
     },
     "execution_count": 9,
     "metadata": {},
     "output_type": "execute_result"
    }
   ],
   "source": [
    "%time calculate_pi_numba(100_000_000)"
   ]
  },
  {
   "cell_type": "code",
   "execution_count": 10,
   "id": "8f3575bb-b317-43a0-bd40-e882fd0cce24",
   "metadata": {},
   "outputs": [
    {
     "name": "stdout",
     "output_type": "stream",
     "text": [
      "CPU times: user 672 ms, sys: 791 µs, total: 673 ms\n",
      "Wall time: 661 ms\n"
     ]
    },
    {
     "data": {
      "text/plain": [
       "3.14182128"
      ]
     },
     "execution_count": 10,
     "metadata": {},
     "output_type": "execute_result"
    }
   ],
   "source": [
    "%time calculate_pi_numba(100_000_000)"
   ]
  },
  {
   "cell_type": "markdown",
   "id": "dabbfaa5-fe22-45fe-aa1e-03a03e478a43",
   "metadata": {},
   "source": [
    "## Numba Cuda \n",
    "[ https://numba.readthedocs.io/en/stable/cuda/index.html ]"
   ]
  },
  {
   "cell_type": "code",
   "execution_count": 11,
   "id": "b9b43818-07cc-4cb5-b5a0-b76e9ffac6fc",
   "metadata": {},
   "outputs": [],
   "source": [
    "from numba.cuda.random import create_xoroshiro128p_states\n",
    "from numba.cuda.random import xoroshiro128p_uniform_float32"
   ]
  },
  {
   "cell_type": "code",
   "execution_count": 12,
   "id": "daf1f9b1-78d4-41af-b5c8-ba173b481976",
   "metadata": {},
   "outputs": [],
   "source": [
    "@cuda.jit()\n",
    "def calculate_pi_numba_cuda_kernel(trials_per_thread, count_array, rng_states):\n",
    "    my_index = cuda.grid(1)\n",
    "    my_count = 0\n",
    "    \n",
    "    for i in range(trials_per_thread):\n",
    "        x = xoroshiro128p_uniform_float32(rng_states, my_index)\n",
    "        y = xoroshiro128p_uniform_float32(rng_states, my_index)\n",
    "        if x**2 + y**2 <= 1:\n",
    "            my_count += 1\n",
    "    count_array[my_index] = my_count\n",
    "             "
   ]
  },
  {
   "cell_type": "code",
   "execution_count": 13,
   "id": "0314d7d0-8290-4c3d-ac8f-04bd954f6b59",
   "metadata": {},
   "outputs": [],
   "source": [
    "def calculate_pi_numba_cuda(trials_per_thread, threads_per_threadblock, num_threadblocks, seed):\n",
    "    num_threads = threads_per_threadblock * num_threadblocks\n",
    "    print(f'Computing PI using {trials_per_thread * num_threads:.3e} trials')\n",
    "    \n",
    "    # Setup for doing computations on GPU\n",
    "    rng_states = create_xoroshiro128p_states(num_threads, seed)\n",
    "    count_array = cuda.to_device(np.zeros(num_threads, dtype=np.int32))\n",
    "    \n",
    "    calculate_pi_numba_cuda_kernel[num_threadblocks, threads_per_threadblock](trials_per_thread, count_array, rng_states)\n",
    "    #calculate_pi_numba_cuda_kernel.forall(num_threads)(trials_per_thread, count_array, rng_states)\n",
    "    \n",
    "    # Retrieve and report results\n",
    "    pi_table = count_array.copy_to_host()/trials_per_thread*4\n",
    "    print(pi_table)\n",
    "    return np.mean(pi_table), np.std(pi_table)/len(pi_table)**.5"
   ]
  },
  {
   "cell_type": "code",
   "execution_count": 14,
   "id": "62963743-354e-4a87-849c-bfe53902c236",
   "metadata": {},
   "outputs": [
    {
     "name": "stdout",
     "output_type": "stream",
     "text": [
      "Computing PI using 1.024e+11 trials\n",
      "[3.1398  3.14116 3.14064 ... 3.13972 3.13756 3.13308]\n",
      "CPU times: user 3.29 s, sys: 112 ms, total: 3.4 s\n",
      "Wall time: 3.49 s\n"
     ]
    },
    {
     "data": {
      "text/plain": [
       "(3.141596157343749, 5.131469625478166e-06)"
      ]
     },
     "execution_count": 14,
     "metadata": {},
     "output_type": "execute_result"
    }
   ],
   "source": [
    "%time calculate_pi_numba_cuda(100_000, 1024, 1000, seed=12) "
   ]
  },
  {
   "cell_type": "code",
   "execution_count": 15,
   "id": "8ebc5c0c-bdcb-41e4-8ccc-187db8c78312",
   "metadata": {},
   "outputs": [
    {
     "name": "stdout",
     "output_type": "stream",
     "text": [
      "Computing PI using 1.024e+11 trials\n",
      "[3.1398  3.14116 3.14064 ... 3.13972 3.13756 3.13308]\n",
      "CPU times: user 2.81 s, sys: 34 µs, total: 2.81 s\n",
      "Wall time: 2.81 s\n"
     ]
    },
    {
     "data": {
      "text/plain": [
       "(3.141596157343749, 5.131469625478166e-06)"
      ]
     },
     "execution_count": 15,
     "metadata": {},
     "output_type": "execute_result"
    }
   ],
   "source": [
    "%time calculate_pi_numba_cuda(100_000, 1024, 1000, seed=12) "
   ]
  },
  {
   "cell_type": "code",
   "execution_count": 16,
   "id": "8268db55-73dc-4f13-a7b9-8aa75ad97017",
   "metadata": {},
   "outputs": [
    {
     "data": {
      "text/plain": [
       "3.141592653589793"
      ]
     },
     "execution_count": 16,
     "metadata": {},
     "output_type": "execute_result"
    }
   ],
   "source": [
    "np.pi"
   ]
  },
  {
   "cell_type": "markdown",
   "id": "bff8dfbc-bc89-47ab-a1f0-c73f196e4f97",
   "metadata": {
    "tags": []
   },
   "source": [
    "## Perfomance"
   ]
  },
  {
   "cell_type": "code",
   "execution_count": 17,
   "id": "afec273b-395f-41f4-b453-665e524b7610",
   "metadata": {
    "tags": []
   },
   "outputs": [
    {
     "ename": "SyntaxError",
     "evalue": "invalid syntax (892190816.py, line 1)",
     "output_type": "error",
     "traceback": [
      "\u001b[0;36m  Cell \u001b[0;32mIn[17], line 1\u001b[0;36m\u001b[0m\n\u001b[0;31m    Trials/s            Ratio   Version\u001b[0m\n\u001b[0m                        ^\u001b[0m\n\u001b[0;31mSyntaxError\u001b[0m\u001b[0;31m:\u001b[0m invalid syntax\n"
     ]
    }
   ],
   "source": [
    "Trials/s            Ratio   Version\n",
    "\n",
    "1e6/3.36 =  3.98e5  0.0057  Python\n",
    "\n",
    "1e8/1.45 =  6.90e7  1       Numpy\n",
    "\n",
    "1e8/0.701 = 1.43e8  2.1     Numba JIT\n",
    "\n",
    "1e11/4.54 = 2.20e10 319     Numba Cuda"
   ]
  },
  {
   "cell_type": "code",
   "execution_count": null,
   "id": "422a3ef6",
   "metadata": {},
   "outputs": [],
   "source": []
  }
 ],
 "metadata": {
  "kernelspec": {
   "display_name": "Python 3 (ipykernel)",
   "language": "python",
   "name": "python3"
  },
  "language_info": {
   "codemirror_mode": {
    "name": "ipython",
    "version": 3
   },
   "file_extension": ".py",
   "mimetype": "text/x-python",
   "name": "python",
   "nbconvert_exporter": "python",
   "pygments_lexer": "ipython3",
   "version": "3.11.2"
  }
 },
 "nbformat": 4,
 "nbformat_minor": 5
}
